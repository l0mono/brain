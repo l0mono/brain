{
  "nbformat": 4,
  "nbformat_minor": 0,
  "metadata": {
    "colab": {
      "provenance": [],
      "authorship_tag": "ABX9TyM+56b2tZ6SqibcFrzwTBkt",
      "include_colab_link": true
    },
    "kernelspec": {
      "name": "python3",
      "display_name": "Python 3"
    },
    "language_info": {
      "name": "python"
    }
  },
  "cells": [
    {
      "cell_type": "markdown",
      "metadata": {
        "id": "view-in-github",
        "colab_type": "text"
      },
      "source": [
        "<a href=\"https://colab.research.google.com/github/l0mono/brain/blob/main/brain.ipynb\" target=\"_parent\"><img src=\"https://colab.research.google.com/assets/colab-badge.svg\" alt=\"Open In Colab\"/></a>"
      ]
    },
    {
      "cell_type": "markdown",
      "source": [
        "(1)1000以下の素数を全て出力しろ"
      ],
      "metadata": {
        "id": "KjVFY1rZiMcV"
      }
    },
    {
      "cell_type": "code",
      "execution_count": null,
      "metadata": {
        "id": "Jw0sqcpuzYPZ",
        "colab": {
          "base_uri": "https://localhost:8080/"
        },
        "outputId": "540a147d-e084-4084-fbda-02e37288200d"
      },
      "outputs": [
        {
          "output_type": "stream",
          "name": "stdout",
          "text": [
            "[2, 3, 5, 7, 11, 13, 17, 19, 23, 29, 31, 37, 41, 43, 47, 53, 59, 61, 67, 71, 73, 79, 83, 89, 97, 101, 103, 107, 109, 113, 127, 131, 137, 139, 149, 151, 157, 163, 167, 173, 179, 181, 191, 193, 197, 199, 211, 223, 227, 229, 233, 239, 241, 251, 257, 263, 269, 271, 277, 281, 283, 293, 307, 311, 313, 317, 331, 337, 347, 349, 353, 359, 367, 373, 379, 383, 389, 397, 401, 409, 419, 421, 431, 433, 439, 443, 449, 457, 461, 463, 467, 479, 487, 491, 499, 503, 509, 521, 523, 541, 547, 557, 563, 569, 571, 577, 587, 593, 599, 601, 607, 613, 617, 619, 631, 641, 643, 647, 653, 659, 661, 673, 677, 683, 691, 701, 709, 719, 727, 733, 739, 743, 751, 757, 761, 769, 773, 787, 797, 809, 811, 821, 823, 827, 829, 839, 853, 857, 859, 863, 877, 881, 883, 887, 907, 911, 919, 929, 937, 941, 947, 953, 967, 971, 977, 983, 991, 997]\n"
          ]
        }
      ],
      "source": [
        "def prime_checker(i):\n",
        "  if i <= 1:\n",
        "      return False\n",
        "  else:\n",
        "    for j in range(2 , int(i**0.5) + 1):\n",
        "      if i % j == 0:\n",
        "        return False\n",
        "\n",
        "  return True\n",
        "\n",
        "prime_li = []\n",
        "\n",
        "for i in range(1,1001):\n",
        "  if prime_checker(i):\n",
        "    prime_li.append(i)\n",
        "print(prime_li)"
      ]
    },
    {
      "cell_type": "markdown",
      "source": [
        "(2)与えられた文字列を逆順に表示しろ"
      ],
      "metadata": {
        "id": "22l28_8F12D-"
      }
    },
    {
      "cell_type": "code",
      "source": [
        "def converter(text):\n",
        "  txt_pre =list(text)\n",
        "  txt_len = len(txt_pre)\n",
        "  txt_new = \"\"\n",
        "\n",
        "  if txt_len == 0:\n",
        "    print(\"テキストが入力されていません\")\n",
        "    return 1\n",
        "\n",
        "  else:\n",
        "    for i in range(1,txt_len+1):\n",
        "      txt_new += txt_pre[txt_len-i]\n",
        "\n",
        "    return txt_new\n",
        "\n",
        "test = \"YukiMatsuda\"\n",
        "print(converter(test))"
      ],
      "metadata": {
        "colab": {
          "base_uri": "https://localhost:8080/"
        },
        "id": "wQIlrakW17As",
        "outputId": "6674f2d3-4d79-4e8b-9a8c-d6826cfc9be7"
      },
      "execution_count": null,
      "outputs": [
        {
          "output_type": "stream",
          "name": "stdout",
          "text": [
            "adustaMikuY\n"
          ]
        }
      ]
    },
    {
      "cell_type": "code",
      "source": [],
      "metadata": {
        "id": "bJMCE9-q4C2j"
      },
      "execution_count": null,
      "outputs": []
    }
  ]
}