{
  "nbformat": 4,
  "nbformat_minor": 0,
  "metadata": {
    "colab": {
      "provenance": [],
      "authorship_tag": "ABX9TyPpg4Z2PtM1LCVzP/ZWBhFw",
      "include_colab_link": true
    },
    "kernelspec": {
      "name": "python3",
      "display_name": "Python 3"
    },
    "language_info": {
      "name": "python"
    }
  },
  "cells": [
    {
      "cell_type": "markdown",
      "metadata": {
        "id": "view-in-github",
        "colab_type": "text"
      },
      "source": [
        "<a href=\"https://colab.research.google.com/github/l0mono/brain/blob/main/brain.ipynb\" target=\"_parent\"><img src=\"https://colab.research.google.com/assets/colab-badge.svg\" alt=\"Open In Colab\"/></a>"
      ]
    },
    {
      "cell_type": "markdown",
      "source": [
        "(1)1000以下の素数を全て出力しろ"
      ],
      "metadata": {
        "id": "KjVFY1rZiMcV"
      }
    },
    {
      "cell_type": "code",
      "execution_count": null,
      "metadata": {
        "id": "Jw0sqcpuzYPZ"
      },
      "outputs": [],
      "source": [
        "li = []\n",
        "for i in range(1000):\n",
        "  if li > 2:\n",
        "    for j in range(1,li*0.5):\n",
        "      if li\n"
      ]
    }
  ]
}